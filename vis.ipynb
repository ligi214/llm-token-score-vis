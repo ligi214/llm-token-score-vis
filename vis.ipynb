{
 "cells": [
  {
   "cell_type": "markdown",
   "metadata": {},
   "source": [
    "1. LLaMA2-13B-Chat-GPTQ model should be downloaded.\n",
    "\n",
    "2. Install packages to the conda environment by running the code:\n",
    "```\n",
    "conda create --name token-vis python=3.12\n",
    "conda activate token-vis\n",
    "pip install torch numpy transformers ipykernel spacy\n",
    "python -m spacy download en_core_web_sm\n",
    "python -m ipykernel install --user --name=token-vis\n",
    "```\n",
    "\n",
    "3. Select the ipykernel `token-vis` as the kernel to run this ipynb file\n",
    "4. Set MODEL_DIR in the first cell and RESULTS_DIR in the second cell"
   ]
  },
  {
   "cell_type": "code",
   "execution_count": 2,
   "metadata": {},
   "outputs": [],
   "source": [
    "import html \n",
    "import base64 \n",
    "import re \n",
    "import numpy as np\n",
    "import random\n",
    "import torch\n",
    "\n",
    "# set tokenizer and spacy\n",
    "from transformers import AutoTokenizer \n",
    "import spacy \n",
    "\n",
    "MODEL_DIR = \"TheBloke/Llama-2-13B-chat-GPTQ\"  # should change to the directory of downloaded LLama2-13B-chat-gptq model\n",
    "nlp = spacy.load(\"en_core_web_sm\")\n",
    "tokenizer = AutoTokenizer.from_pretrained(MODEL_DIR)"
   ]
  },
  {
   "cell_type": "code",
   "execution_count": null,
   "metadata": {},
   "outputs": [],
   "source": [
    "# get data\n",
    "import json\n",
    "with open(RESULTS_DIR) as f: results = json.load(f)"
   ]
  },
  {
   "cell_type": "code",
   "execution_count": 3,
   "metadata": {},
   "outputs": [],
   "source": [
    "def tokenize_with_spacy(text):\n",
    "    ids = []\n",
    "    wordwise_ids = []\n",
    "    for i, word in enumerate(nlp(text)):\n",
    "        word = word.text \n",
    "        ids += (tokenizer(word)['input_ids'][1:])\n",
    "        wordwise_ids.append(tokenizer(word)['input_ids'][1:])\n",
    "    return ids, wordwise_ids"
   ]
  },
  {
   "cell_type": "code",
   "execution_count": 70,
   "metadata": {},
   "outputs": [],
   "source": [
    "def get_tokens_html_code(token_ids, scores=None):\n",
    "    text_html_code = f\"<div class='tokens-container'>\"\n",
    "    nobr_closed = True\n",
    "    previous_space_flag = False\n",
    "\n",
    "    for i, token_id in enumerate(token_ids):\n",
    "        class_name = \"token\"\n",
    "        token_decoded = tokenizer.convert_ids_to_tokens([token_id])[0]\n",
    "        # print(i, token_decoded)\n",
    "        \n",
    "        if token_decoded==\"<0x0A>\": \n",
    "            class_name += \" line-break-token\"\n",
    "            if nobr_closed : text_html_code += f\"<div class='{class_name}' id='token-{i}'></div><br>\"\n",
    "            else: text_html_code += f\"<div class='{class_name}' id='token-{i}'></div></nobr><br>\"\n",
    "            nobr_closed = True\n",
    "            continue\n",
    "\n",
    "        if \"<\" in token_decoded: token_decoded = token_decoded.replace(\"<\", \"&lt;\")\n",
    "        if \">\" in token_decoded: token_decoded = token_decoded.replace(\">\", \"&gt;\")\n",
    "\n",
    "        if \"▁\" == token_decoded:\n",
    "            if i == 0: continue\n",
    "            class_name += \" space-token\"\n",
    "            token_decoded = \"&nbsp;\"\n",
    "            html_code = f\"<div class='{class_name}' id='token-{i}'>{token_decoded}</div>\"\n",
    "            previous_space_flag = True\n",
    "            if not nobr_closed: html_code = html_code + \"</nobr>\"\n",
    "        elif token_decoded in [\"▁.\", \"▁,\", \"▁'\", \"▁\\\"\"]: \n",
    "            if not nobr_closed: html_code = html_code + \"</nobr>\"\n",
    "            token_decoded = token_decoded[1:]\n",
    "            html_code = f\"<nobr><div class='{class_name}' id='token-{i}'>{token_decoded}</div>\"\n",
    "            nobr_closed = False \n",
    "            previous_space_flag = False\n",
    "        elif \"▁\" == token_decoded[0]: \n",
    "            if not nobr_closed: html_code = html_code + \"</nobr>\"\n",
    "            if i>0: class_name += \" left-space-token\"\n",
    "            token_decoded = token_decoded[1:]\n",
    "            html_code = f\"<nobr><div class='{class_name}' id='token-{i}'>{token_decoded}</div>\"\n",
    "            nobr_closed = False \n",
    "            previous_space_flag = False\n",
    "        else:\n",
    "            if previous_space_flag:\n",
    "                html_code = f\"<nobr><div class='{class_name}' id='token-{i}'>{token_decoded}</div>\"\n",
    "                nobr_closed = False\n",
    "            else: html_code = f\"<div class='{class_name}' id='token-{i}'>{token_decoded}</div>\"\n",
    "            previous_space_flag = False\n",
    "        \n",
    "        text_html_code += html_code\n",
    "    \n",
    "    if not nobr_closed: text_html_code += \"</nobr>\"\n",
    "    text_html_code += \"</div>\"\n",
    "\n",
    "    return text_html_code"
   ]
  },
  {
   "cell_type": "code",
   "execution_count": null,
   "metadata": {},
   "outputs": [],
   "source": [
    "# index of data to visualize\n",
    "i = 0\n",
    "generated_text = results[i]['generated']\n",
    "label = results[i]['label']  # correct text: aligned, mistake: misaligned, fabrication: fabricated\n",
    "mkt_scores = results[i]['kld']\n",
    "at_scores = results[i]['delta_p']\n",
    "subject_token_pos = results[i]['generated_subject_token_pos']\n",
    "subject_token_pos = sum(sum(subject_token_pos.values(), []), [])\n",
    "ids, wordwise_ids = tokenize_with_spacy(generated_text)"
   ]
  },
  {
   "cell_type": "code",
   "execution_count": 77,
   "metadata": {},
   "outputs": [],
   "source": [
    "# # test data point (don't run this cell)\n",
    "# generated_text = \"Western Rat Snakes reproduce by laying eggs. Females will typically lay between 6-12 eggs per clutch, and the eggs will hatch after an incubation period of approximately 60-70 days. The hatchlings will then go through a series of shedding and growth stages before reaching maturity.\"\n",
    "# ids, wordwise_ids = tokenize_with_spacy(generated_text)\n",
    "# label = \"correct text\"\n",
    "# mkt_scores = np.random.random(len(ids))*5 \n",
    "# at_scores = np.random.random(len(ids))*2-1\n",
    "# subject_token_pos = {'Western Rat Snake': [[0,1,2,3]]}\n",
    "# subject_token_pos = sum(sum(subject_token_pos.values(), []), [])"
   ]
  },
  {
   "cell_type": "code",
   "execution_count": 108,
   "metadata": {},
   "outputs": [],
   "source": [
    "score_type = \"mkt\"  # change to at to check Alignment Score\n",
    "\n",
    "mkt_scale = 5  # increase this value to make color lighter\n",
    "at_scale = 1  # Alignment score is always in the range of [-1,1] so may not need to be changed\n",
    "\n",
    "if score_type==\"mkt\": scores = np.array(mkt_scores); score_scale=mkt_scale\n",
    "elif score_type==\"at\": scores = np.array(at_scores) ; score_scale=at_scale\n",
    "\n",
    "scores[subject_token_pos] = 0.0\n",
    "scores = scores.tolist()"
   ]
  },
  {
   "cell_type": "code",
   "execution_count": 109,
   "metadata": {},
   "outputs": [
    {
     "data": {
      "text/html": [
       "\n",
       "        <iframe \n",
       "            srcdoc=\"&lt;!DOCTYPE html&gt;\n",
       "&lt;html lang=&quot;en&quot;&gt;\n",
       "&lt;head&gt;\n",
       "    &lt;meta charset=&quot;UTF-8&quot;&gt;\n",
       "    &lt;meta name=&quot;viewport&quot; content=&quot;width=device-width, initial-scale=1.0&quot;&gt;\n",
       "    &lt;script src=&quot;https://d3js.org/d3.v7.min.js&quot;&gt;&lt;/script&gt;\n",
       "    &lt;!-- &lt;style&gt;html {user-select: none; -webkit-user-drag: none; -moz-user-select: none; -webkit-user-select: none; -ms-user-select: none;}&lt;/style&gt; --&gt;\n",
       "    &lt;style&gt;.token {\n",
       "    display: inline-block;\n",
       "    color: #404040;\n",
       "    box-sizing: content-box;\n",
       "    padding: 2px 0px;\n",
       "    text-shadow: 0px 0px 2px #ffffff;\n",
       "    font-size: 0.9em;\n",
       "    height: 1em;\n",
       "}\n",
       "\n",
       ".left-space-token {\n",
       "    padding: 2px 0 2px 2px;\n",
       "}&lt;/style&gt;\n",
       "&lt;/head&gt;\n",
       "&lt;body&gt;\n",
       "    &lt;div class=&quot;tokens-wrapper&quot;&gt;\n",
       "        &lt;div class=&#x27;tokens-container&#x27;&gt;&lt;nobr&gt;&lt;div class=&#x27;token&#x27; id=&#x27;token-0&#x27;&gt;Western&lt;/div&gt;&lt;nobr&gt;&lt;div class=&#x27;token left-space-token&#x27; id=&#x27;token-1&#x27;&gt;Rat&lt;/div&gt;&lt;nobr&gt;&lt;div class=&#x27;token left-space-token&#x27; id=&#x27;token-2&#x27;&gt;Sn&lt;/div&gt;&lt;div class=&#x27;token&#x27; id=&#x27;token-3&#x27;&gt;akes&lt;/div&gt;&lt;nobr&gt;&lt;div class=&#x27;token left-space-token&#x27; id=&#x27;token-4&#x27;&gt;reproduce&lt;/div&gt;&lt;nobr&gt;&lt;div class=&#x27;token left-space-token&#x27; id=&#x27;token-5&#x27;&gt;by&lt;/div&gt;&lt;nobr&gt;&lt;div class=&#x27;token left-space-token&#x27; id=&#x27;token-6&#x27;&gt;lay&lt;/div&gt;&lt;div class=&#x27;token&#x27; id=&#x27;token-7&#x27;&gt;ing&lt;/div&gt;&lt;nobr&gt;&lt;div class=&#x27;token left-space-token&#x27; id=&#x27;token-8&#x27;&gt;eggs&lt;/div&gt;&lt;nobr&gt;&lt;div class=&#x27;token&#x27; id=&#x27;token-9&#x27;&gt;.&lt;/div&gt;&lt;nobr&gt;&lt;div class=&#x27;token left-space-token&#x27; id=&#x27;token-10&#x27;&gt;Fem&lt;/div&gt;&lt;div class=&#x27;token&#x27; id=&#x27;token-11&#x27;&gt;ales&lt;/div&gt;&lt;nobr&gt;&lt;div class=&#x27;token left-space-token&#x27; id=&#x27;token-12&#x27;&gt;will&lt;/div&gt;&lt;nobr&gt;&lt;div class=&#x27;token left-space-token&#x27; id=&#x27;token-13&#x27;&gt;typically&lt;/div&gt;&lt;nobr&gt;&lt;div class=&#x27;token left-space-token&#x27; id=&#x27;token-14&#x27;&gt;lay&lt;/div&gt;&lt;nobr&gt;&lt;div class=&#x27;token left-space-token&#x27; id=&#x27;token-15&#x27;&gt;between&lt;/div&gt;&lt;div class=&#x27;token space-token&#x27; id=&#x27;token-16&#x27;&gt;&amp;nbsp;&lt;/div&gt;&lt;/nobr&gt;&lt;nobr&gt;&lt;div class=&#x27;token&#x27; id=&#x27;token-17&#x27;&gt;6&lt;/div&gt;&lt;nobr&gt;&lt;div class=&#x27;token left-space-token&#x27; id=&#x27;token-18&#x27;&gt;-&lt;/div&gt;&lt;div class=&#x27;token space-token&#x27; id=&#x27;token-19&#x27;&gt;&amp;nbsp;&lt;/div&gt;&lt;/nobr&gt;&lt;nobr&gt;&lt;div class=&#x27;token&#x27; id=&#x27;token-20&#x27;&gt;1&lt;/div&gt;&lt;div class=&#x27;token&#x27; id=&#x27;token-21&#x27;&gt;2&lt;/div&gt;&lt;nobr&gt;&lt;div class=&#x27;token left-space-token&#x27; id=&#x27;token-22&#x27;&gt;eggs&lt;/div&gt;&lt;nobr&gt;&lt;div class=&#x27;token left-space-token&#x27; id=&#x27;token-23&#x27;&gt;per&lt;/div&gt;&lt;nobr&gt;&lt;div class=&#x27;token left-space-token&#x27; id=&#x27;token-24&#x27;&gt;cl&lt;/div&gt;&lt;div class=&#x27;token&#x27; id=&#x27;token-25&#x27;&gt;utch&lt;/div&gt;&lt;nobr&gt;&lt;div class=&#x27;token&#x27; id=&#x27;token-26&#x27;&gt;,&lt;/div&gt;&lt;nobr&gt;&lt;div class=&#x27;token left-space-token&#x27; id=&#x27;token-27&#x27;&gt;and&lt;/div&gt;&lt;nobr&gt;&lt;div class=&#x27;token left-space-token&#x27; id=&#x27;token-28&#x27;&gt;the&lt;/div&gt;&lt;nobr&gt;&lt;div class=&#x27;token left-space-token&#x27; id=&#x27;token-29&#x27;&gt;eggs&lt;/div&gt;&lt;nobr&gt;&lt;div class=&#x27;token left-space-token&#x27; id=&#x27;token-30&#x27;&gt;will&lt;/div&gt;&lt;nobr&gt;&lt;div class=&#x27;token left-space-token&#x27; id=&#x27;token-31&#x27;&gt;h&lt;/div&gt;&lt;div class=&#x27;token&#x27; id=&#x27;token-32&#x27;&gt;atch&lt;/div&gt;&lt;nobr&gt;&lt;div class=&#x27;token left-space-token&#x27; id=&#x27;token-33&#x27;&gt;after&lt;/div&gt;&lt;nobr&gt;&lt;div class=&#x27;token left-space-token&#x27; id=&#x27;token-34&#x27;&gt;an&lt;/div&gt;&lt;nobr&gt;&lt;div class=&#x27;token left-space-token&#x27; id=&#x27;token-35&#x27;&gt;inc&lt;/div&gt;&lt;div class=&#x27;token&#x27; id=&#x27;token-36&#x27;&gt;ub&lt;/div&gt;&lt;div class=&#x27;token&#x27; id=&#x27;token-37&#x27;&gt;ation&lt;/div&gt;&lt;nobr&gt;&lt;div class=&#x27;token left-space-token&#x27; id=&#x27;token-38&#x27;&gt;period&lt;/div&gt;&lt;nobr&gt;&lt;div class=&#x27;token left-space-token&#x27; id=&#x27;token-39&#x27;&gt;of&lt;/div&gt;&lt;nobr&gt;&lt;div class=&#x27;token left-space-token&#x27; id=&#x27;token-40&#x27;&gt;approximately&lt;/div&gt;&lt;div class=&#x27;token space-token&#x27; id=&#x27;token-41&#x27;&gt;&amp;nbsp;&lt;/div&gt;&lt;/nobr&gt;&lt;nobr&gt;&lt;div class=&#x27;token&#x27; id=&#x27;token-42&#x27;&gt;6&lt;/div&gt;&lt;div class=&#x27;token&#x27; id=&#x27;token-43&#x27;&gt;0&lt;/div&gt;&lt;nobr&gt;&lt;div class=&#x27;token left-space-token&#x27; id=&#x27;token-44&#x27;&gt;-&lt;/div&gt;&lt;div class=&#x27;token space-token&#x27; id=&#x27;token-45&#x27;&gt;&amp;nbsp;&lt;/div&gt;&lt;/nobr&gt;&lt;nobr&gt;&lt;div class=&#x27;token&#x27; id=&#x27;token-46&#x27;&gt;7&lt;/div&gt;&lt;div class=&#x27;token&#x27; id=&#x27;token-47&#x27;&gt;0&lt;/div&gt;&lt;nobr&gt;&lt;div class=&#x27;token left-space-token&#x27; id=&#x27;token-48&#x27;&gt;days&lt;/div&gt;&lt;nobr&gt;&lt;div class=&#x27;token&#x27; id=&#x27;token-49&#x27;&gt;.&lt;/div&gt;&lt;nobr&gt;&lt;div class=&#x27;token left-space-token&#x27; id=&#x27;token-50&#x27;&gt;The&lt;/div&gt;&lt;nobr&gt;&lt;div class=&#x27;token left-space-token&#x27; id=&#x27;token-51&#x27;&gt;h&lt;/div&gt;&lt;div class=&#x27;token&#x27; id=&#x27;token-52&#x27;&gt;atch&lt;/div&gt;&lt;div class=&#x27;token&#x27; id=&#x27;token-53&#x27;&gt;lings&lt;/div&gt;&lt;nobr&gt;&lt;div class=&#x27;token left-space-token&#x27; id=&#x27;token-54&#x27;&gt;will&lt;/div&gt;&lt;nobr&gt;&lt;div class=&#x27;token left-space-token&#x27; id=&#x27;token-55&#x27;&gt;then&lt;/div&gt;&lt;nobr&gt;&lt;div class=&#x27;token left-space-token&#x27; id=&#x27;token-56&#x27;&gt;go&lt;/div&gt;&lt;nobr&gt;&lt;div class=&#x27;token left-space-token&#x27; id=&#x27;token-57&#x27;&gt;through&lt;/div&gt;&lt;nobr&gt;&lt;div class=&#x27;token left-space-token&#x27; id=&#x27;token-58&#x27;&gt;a&lt;/div&gt;&lt;nobr&gt;&lt;div class=&#x27;token left-space-token&#x27; id=&#x27;token-59&#x27;&gt;series&lt;/div&gt;&lt;nobr&gt;&lt;div class=&#x27;token left-space-token&#x27; id=&#x27;token-60&#x27;&gt;of&lt;/div&gt;&lt;nobr&gt;&lt;div class=&#x27;token left-space-token&#x27; id=&#x27;token-61&#x27;&gt;shed&lt;/div&gt;&lt;div class=&#x27;token&#x27; id=&#x27;token-62&#x27;&gt;ding&lt;/div&gt;&lt;nobr&gt;&lt;div class=&#x27;token left-space-token&#x27; id=&#x27;token-63&#x27;&gt;and&lt;/div&gt;&lt;nobr&gt;&lt;div class=&#x27;token left-space-token&#x27; id=&#x27;token-64&#x27;&gt;growth&lt;/div&gt;&lt;nobr&gt;&lt;div class=&#x27;token left-space-token&#x27; id=&#x27;token-65&#x27;&gt;stages&lt;/div&gt;&lt;nobr&gt;&lt;div class=&#x27;token left-space-token&#x27; id=&#x27;token-66&#x27;&gt;before&lt;/div&gt;&lt;nobr&gt;&lt;div class=&#x27;token left-space-token&#x27; id=&#x27;token-67&#x27;&gt;reaching&lt;/div&gt;&lt;nobr&gt;&lt;div class=&#x27;token left-space-token&#x27; id=&#x27;token-68&#x27;&gt;m&lt;/div&gt;&lt;div class=&#x27;token&#x27; id=&#x27;token-69&#x27;&gt;atur&lt;/div&gt;&lt;div class=&#x27;token&#x27; id=&#x27;token-70&#x27;&gt;ity&lt;/div&gt;&lt;nobr&gt;&lt;div class=&#x27;token&#x27; id=&#x27;token-71&#x27;&gt;.&lt;/div&gt;&lt;/nobr&gt;&lt;/div&gt;\n",
       "    &lt;/div&gt;\n",
       "    &lt;script data-notebookMode=&quot;true&quot; data-package=&quot;__main__&quot; src=&#x27;data:text/javascript;base64,bGV0IGxlZnRCb3VuZGFyeSA9IGRvY3VtZW50LmdldEVsZW1lbnRCeUlkKGB0b2tlbi0wYCkuZ2V0Qm91bmRpbmdDbGllbnRSZWN0KCkubGVmdAoKZDMuc2VsZWN0QWxsKCcudG9rZW4nKQogICAgLnN0eWxlKCdtYXJnaW4tbGVmdCcsIGZ1bmN0aW9uKGQsIGkpIHsKICAgICAgICBsZXQgZWwgPSBkb2N1bWVudC5nZXRFbGVtZW50QnlJZChgdG9rZW4tJHtpfWApCiAgICAgICAgaWYgKCFlbC5jbGFzc0xpc3QuY29udGFpbnMoImxlZnQtc3BhY2UtdG9rZW4iKSkge3JldHVybiAiMHB4Ijt9CiAgICAgICAgbGV0IGxlZnQgPSBlbC5nZXRCb3VuZGluZ0NsaWVudFJlY3QoKS5sZWZ0CiAgICAKICAgICAgICAvLyBjb25zb2xlLmxvZyhpLCBsZWZ0LCBsZWZ0Qm91bmRhcnksIChsZWZ0IDw9IGxlZnRCb3VuZGFyeSArIDAuNSkpCiAgICAgICAgaWYgKGxlZnQgPD0gbGVmdEJvdW5kYXJ5ICsgMC41KSByZXR1cm4gIjBweCIKICAgICAgICBlbHNlIHJldHVybiAiNXB4IgogICAgfSkKCgoKZG9jdW1lbnQuYWRkRXZlbnRMaXN0ZW5lcigic2NvcmVzIiwgZnVuY3Rpb24oZXZlbnQpIHsKICAgIHNjb3JlcyA9IGV2ZW50LnNjb3JlcwogICAgc2NvcmVfdHlwZSA9IGV2ZW50LnNjb3JlX3R5cGUKICAgIHNjb3JlX3NjYWxlID0gZXZlbnQuc2NvcmVfc2NhbGUKCiAgICBsZXQgbWt0Q29sb3JTY2FsZSA9IGQzLnNjYWxlTGluZWFyKCkuZG9tYWluKFswLHNjb3JlX3NjYWxlXSkucmFuZ2UoWyIjMDAwMGZmMDAiLCAiIzAwMDBmZjgwIl0pCiAgICBsZXQgYXRQb3NDb2xvclNjYWxlID0gZDMuc2NhbGVMaW5lYXIoKS5kb21haW4oWzAsc2NvcmVfc2NhbGVdKS5yYW5nZShbIiMwMDAwZmYwMCIsICIjMDAwMGZmODAiXSkKICAgIGxldCBhdE5lZ0NvbG9yU2NhbGUgPSBkMy5zY2FsZUxpbmVhcigpLmRvbWFpbihbLXNjb3JlX3NjYWxlLDBdKS5yYW5nZShbIiNmZjAwMDA4MCIsICIjZmYwMDAwMDAiXSkKCiAgICBkMy5zZWxlY3RBbGwoJy50b2tlbicpCiAgICAgICAgLnN0eWxlKCdiYWNrZ3JvdW5kLWNvbG9yJywgZnVuY3Rpb24oZCwgaSkgewogICAgICAgICAgICBsZXQgc2NvcmUgPSBzY29yZXNbaV0KICAgICAgICAgICAgaWYgKHNjb3JlX3R5cGUgPT0gIm1rdCIpIHJldHVybiBta3RDb2xvclNjYWxlKHNjb3JlKQogICAgICAgICAgICBlbHNlIGlmIChzY29yZV90eXBlID09ICJhdCIpIHsKICAgICAgICAgICAgICAgIGlmIChzY29yZSA+IDApIHJldHVybiBhdFBvc0NvbG9yU2NhbGUoc2NvcmUpCiAgICAgICAgICAgICAgICBlbHNlIHJldHVybiBhdE5lZ0NvbG9yU2NhbGUoc2NvcmUpCiAgICAgICAgICAgIH0KICAgICAgICB9KQp9KQ==&#x27;&gt;&lt;/script&gt;\n",
       "    &lt;script src=&#x27;data:text/javascript;base64,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&#x27;&gt;&lt;/script&gt;\n",
       "&lt;/body&gt;\n",
       "&lt;/html&gt;\" \n",
       "            frameBorder=\"0\" \n",
       "            height=\"300px\"\n",
       "            width=\"100%\">\n",
       "        "
      ]
     },
     "metadata": {},
     "output_type": "display_data"
    }
   ],
   "source": [
    "import os \n",
    "from IPython.display import display_html\n",
    "\n",
    "text_html_code = get_tokens_html_code(ids)\n",
    "html_code_filename = \"./vis/vis.html\"\n",
    "\n",
    "html_code = open(html_code_filename, \"r\").read()\n",
    "css_code = f\"<style>{open('./vis/styles.css', 'r').read()}</style>\"\n",
    "js_code = open(\"./vis/vis.js\", \"r\").read()\n",
    "js_b = bytes(js_code, encoding=\"utf-8\")\n",
    "js_base64 = base64.b64encode(js_b).decode(\"utf-8\")\n",
    "message_js = f\"\"\"\n",
    "        (function() {{\n",
    "            const event = new Event('scores');\n",
    "            event.scores = {scores};\n",
    "            event.score_type = \"{score_type}\";\n",
    "            event.score_scale = {score_scale};\n",
    "            document.dispatchEvent(event);\n",
    "        }}())\n",
    "        \"\"\"\n",
    "message_js = message_js.encode()\n",
    "messenger_js_base64 = base64.b64encode(message_js).decode(\"utf-8\")\n",
    "message_js = f\"\"\"<script src='data:text/javascript;base64,{messenger_js_base64}'></script>\"\"\"\n",
    "\n",
    "html_code = html_code.replace(\"<!--tokens-slot-->\", text_html_code)\n",
    "html_code = html_code.replace(\"<!--style-slot-->\", css_code)\n",
    "html_code = html_code.replace(\"<!--js-slot-->\", f\"\"\"<script data-notebookMode=\"true\" data-package=\"{__name__}\" src='data:text/javascript;base64,{js_base64}'></script>\"\"\")\n",
    "html_code = html_code.replace(\"<!--message-slot-->\", message_js)\n",
    "\n",
    "\n",
    "iframe = f\"\"\"\n",
    "        <iframe \n",
    "            srcdoc=\"{html.escape(html_code)}\" \n",
    "            frameBorder=\"0\" \n",
    "            height=\"300px\"\n",
    "            width=\"100%\">\n",
    "        \"\"\"\n",
    "display_html(iframe, raw=True)"
   ]
  },
  {
   "cell_type": "code",
   "execution_count": null,
   "metadata": {},
   "outputs": [],
   "source": []
  },
  {
   "cell_type": "code",
   "execution_count": null,
   "metadata": {},
   "outputs": [],
   "source": []
  }
 ],
 "metadata": {
  "kernelspec": {
   "display_name": "token-vis",
   "language": "python",
   "name": "token-vis"
  },
  "language_info": {
   "codemirror_mode": {
    "name": "ipython",
    "version": 3
   },
   "file_extension": ".py",
   "mimetype": "text/x-python",
   "name": "python",
   "nbconvert_exporter": "python",
   "pygments_lexer": "ipython3",
   "version": "3.12.8"
  }
 },
 "nbformat": 4,
 "nbformat_minor": 4
}
